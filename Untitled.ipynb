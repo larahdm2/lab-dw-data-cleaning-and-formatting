{
 "cells": [
  {
   "cell_type": "code",
   "execution_count": 1,
   "id": "690b490b",
   "metadata": {},
   "outputs": [],
   "source": [
    "import pandas as pd\n",
    "import numpy as np"
   ]
  },
  {
   "cell_type": "code",
   "execution_count": 2,
   "id": "ea462e8c",
   "metadata": {},
   "outputs": [],
   "source": [
    "insurance = pd.read_csv('file1.csv')"
   ]
  },
  {
   "cell_type": "code",
   "execution_count": 3,
   "id": "587cf79d",
   "metadata": {},
   "outputs": [],
   "source": [
    "def remove_nan(data_frame, column_name):\n",
    "    data_frame = data_frame[data_frame['column_name'].isna()==False]\n",
    "    return data_frama"
   ]
  },
  {
   "cell_type": "code",
   "execution_count": null,
   "id": "ebfc65bd",
   "metadata": {},
   "outputs": [],
   "source": []
  }
 ],
 "metadata": {
  "kernelspec": {
   "display_name": "Python 3 (ipykernel)",
   "language": "python",
   "name": "python3"
  },
  "language_info": {
   "codemirror_mode": {
    "name": "ipython",
    "version": 3
   },
   "file_extension": ".py",
   "mimetype": "text/x-python",
   "name": "python",
   "nbconvert_exporter": "python",
   "pygments_lexer": "ipython3",
   "version": "3.10.9"
  }
 },
 "nbformat": 4,
 "nbformat_minor": 5
}
