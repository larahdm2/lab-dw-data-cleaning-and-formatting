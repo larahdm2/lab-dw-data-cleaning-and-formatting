{
 "cells": [
  {
   "cell_type": "markdown",
   "id": "25d7736c-ba17-4aff-b6bb-66eba20fbf4e",
   "metadata": {},
   "source": [
    "# Lab | Data Cleaning and Formatting"
   ]
  },
  {
   "cell_type": "markdown",
   "id": "34ae7c66-9458-477c-8a31-c6b07a36bf66",
   "metadata": {},
   "source": [
    "Objective: Apply Python programming to perform data cleaning and formatting, including identifying and handling with missing values, duplicates, outliers, errors, and using various formatting techniques such as changing data types, renaming columns, and handling string values, to prepare data for analysis."
   ]
  },
  {
   "cell_type": "markdown",
   "id": "d1973e9e-8be6-4039-b70e-d73ee0d94c99",
   "metadata": {},
   "source": [
    "In this lab, we will be working with the customer data from an insurance company, which can be found in the CSV file located at the following link: https://raw.githubusercontent.com/data-bootcamp-v4/data/main/file1.csv\n"
   ]
  },
  {
   "cell_type": "markdown",
   "id": "31b8a9e7-7db9-4604-991b-ef6771603e57",
   "metadata": {},
   "source": [
    "# Challenge 1: Data Cleaning and Formatting"
   ]
  },
  {
   "cell_type": "markdown",
   "id": "81553f19-9f2c-484b-8940-520aff884022",
   "metadata": {},
   "source": [
    "## Exercise 1: Cleaning Column Names"
   ]
  },
  {
   "cell_type": "markdown",
   "id": "3ec42570-52cb-4bf6-a213-3e49322d5e68",
   "metadata": {},
   "source": [
    "To ensure consistency and ease of use, standardize the column names of the dataframe. Start by taking a first look at the dataframe and identifying any column names that need to be modified. Use appropriate naming conventions and make sure that column names are descriptive and informative."
   ]
  },
  {
   "cell_type": "code",
   "execution_count": null,
   "id": "5810735c-8056-4442-bbf2-dda38d3e284a",
   "metadata": {},
   "outputs": [],
   "source": [
    "# Your code here\n",
    "\n",
    "import pandas as pd\n",
    "import numpy as np"
   ]
  },
  {
   "cell_type": "code",
   "execution_count": null,
   "id": "2a9ab13f",
   "metadata": {},
   "outputs": [],
   "source": [
    "insurance = pd.read_csv('file1.csv')\n",
    "insurance.head()"
   ]
  },
  {
   "cell_type": "code",
   "execution_count": null,
   "id": "b390054e",
   "metadata": {},
   "outputs": [],
   "source": [
    "insurance[insurance['Customer'].isna()==True]"
   ]
  },
  {
   "cell_type": "code",
   "execution_count": null,
   "id": "0e5d7ce2",
   "metadata": {},
   "outputs": [],
   "source": [
    "insurance = insurance[insurance['Customer'].isna()==False]\n",
    "insurance"
   ]
  },
  {
   "cell_type": "code",
   "execution_count": null,
   "id": "738f3fec",
   "metadata": {},
   "outputs": [],
   "source": [
    "insurance['Number of Open Complaints'].unique()\n",
    "insurance[insurance['Number of Open Complaints'].isna()==True]\n",
    "\n",
    "# I guess the middle is the number of complaints\n",
    "\n",
    "insurance['Number of Open Complaints'].replace('1/0/00', '0', inplace=True)\n",
    "insurance[insurance['Number of Open Complaints']=='0'].head(60)\n",
    "insurance['Number of Open Complaints'].replace('1/1/00', '1', inplace=True)\n",
    "insurance['Number of Open Complaints'].replace('1/2/00', '2', inplace=True)\n",
    "insurance['Number of Open Complaints'].replace('1/3/00', '3', inplace=True)\n",
    "insurance['Number of Open Complaints'].replace('1/4/00', '4', inplace=True)\n",
    "insurance['Number of Open Complaints'].replace('1/5/00', '5', inplace=True)\n",
    "insurance[insurance['Number of Open Complaints'].isin(['0','1','2','3','4','5'])]\n",
    "\n",
    "insurance['Number of Open Complaints'] =  pd.to_numeric(insurance['Number of Open Complaints'], errors='coerce') #errors replace non numeric it for NaN\n",
    "\n",
    "\n",
    "insurance['Number of Open Complaints'] = insurance['Number of Open Complaints'].astype(int)\n",
    "\n",
    "insurance.dtypes\n",
    "\n",
    "display(insurance)\n",
    "\n",
    "insurance['Number of Open Complaints'].unique()"
   ]
  },
  {
   "cell_type": "code",
   "execution_count": null,
   "id": "211a420d",
   "metadata": {},
   "outputs": [],
   "source": [
    "insurance = insurance[insurance['Customer'].isna()==False]\n",
    "insurance"
   ]
  },
  {
   "cell_type": "code",
   "execution_count": null,
   "id": "efb66f02",
   "metadata": {},
   "outputs": [],
   "source": [
    "insurance = insurance.rename(columns={'ST':'State',\n",
    "                                'GENDER':'Gender'})\n",
    "insurance"
   ]
  },
  {
   "cell_type": "code",
   "execution_count": null,
   "id": "103c8cb8",
   "metadata": {},
   "outputs": [],
   "source": [
    "# Check unique values for insurance to later unify values.\n",
    "\n",
    "insurance['State'].unique()"
   ]
  },
  {
   "cell_type": "code",
   "execution_count": null,
   "id": "a7d113b2",
   "metadata": {},
   "outputs": [],
   "source": [
    "# Create a function to replace values in a column so that we can call it later\n",
    "\n",
    "def clean_state(x):\n",
    "    if x in ['AZ']:\n",
    "        return 'Arizona'\n",
    "    elif x in ['WA']:\n",
    "        return 'Washington'\n",
    "    elif x in ['Cali']:\n",
    "        return 'California'\n",
    "    else:\n",
    "        return x\n",
    "\n",
    "# Call the function\n",
    "\n",
    "insurance['State'] = list(map(clean_state, insurance['State']))\n",
    "\n",
    "# Check\n",
    "\n",
    "insurance['State'].unique()\n",
    "    "
   ]
  },
  {
   "cell_type": "code",
   "execution_count": null,
   "id": "2592316c",
   "metadata": {},
   "outputs": [],
   "source": [
    "# I´m going to do the same for the rest of categorical columns\n",
    "\n",
    "insurance['Gender'].unique()\n",
    "\n",
    "def clean_gender(x):\n",
    "    if x in ['Femal','female']:\n",
    "        return 'F'\n",
    "    elif x in ['Male']:\n",
    "        return 'M'\n",
    "    else:\n",
    "        return 'U'\n",
    "    \n",
    "insurance['Gender'] = list(map(clean_gender, insurance['Gender']))\n",
    "\n",
    "insurance['Gender'].unique()"
   ]
  },
  {
   "cell_type": "code",
   "execution_count": null,
   "id": "4ed7ca99",
   "metadata": {},
   "outputs": [],
   "source": [
    "# Clean/Updated the Education column\n",
    "\n",
    "insurance['Education'].unique()\n",
    "\n",
    "insurance['Education'].replace('Bachelors', 'Bachelor', inplace=True)\n",
    "\n",
    "insurance['Education'].unique()"
   ]
  },
  {
   "cell_type": "code",
   "execution_count": null,
   "id": "2df649b9",
   "metadata": {},
   "outputs": [],
   "source": [
    "insurance['Policy Type'].unique()"
   ]
  },
  {
   "cell_type": "code",
   "execution_count": null,
   "id": "465064b8",
   "metadata": {},
   "outputs": [],
   "source": [
    "insurance['Vehicle Class'].unique()"
   ]
  },
  {
   "cell_type": "code",
   "execution_count": null,
   "id": "287a54f6",
   "metadata": {},
   "outputs": [],
   "source": [
    "# Now I´m going to check the numeric values\n",
    "# Quick check\n",
    "insurance.head(60)"
   ]
  },
  {
   "cell_type": "code",
   "execution_count": null,
   "id": "6088c1e9",
   "metadata": {},
   "outputs": [],
   "source": [
    "# Quick check\n",
    "insurance.describe(include='all').T"
   ]
  },
  {
   "cell_type": "code",
   "execution_count": null,
   "id": "7b2af978",
   "metadata": {},
   "outputs": [],
   "source": [
    "# Check the number of NaN by column\n",
    "\n",
    "insurance.isna().sum()"
   ]
  },
  {
   "cell_type": "code",
   "execution_count": null,
   "id": "627162db",
   "metadata": {},
   "outputs": [],
   "source": [
    "# Change insurance data type\n",
    "# insurance['Customer Lifetime Value'] = insurance['Customer Lifetime Value'].str.rstrip('%').astype('float') / 100.0\n",
    "insurance"
   ]
  },
  {
   "cell_type": "code",
   "execution_count": null,
   "id": "84be0e89",
   "metadata": {},
   "outputs": [],
   "source": [
    "# Check if Customer Lifetime Value can have 0 as a value\n",
    "insurance[insurance['Customer Lifetime Value']==0.0000]"
   ]
  },
  {
   "cell_type": "code",
   "execution_count": null,
   "id": "e1fc13b9",
   "metadata": {},
   "outputs": [],
   "source": [
    "# Replace Nan values by the mean\n",
    "\n",
    "#First calculate the mean:\n",
    "\n",
    "print('Customer Lifetime Value mean: ', insurance['Customer Lifetime Value'].mean())"
   ]
  },
  {
   "cell_type": "code",
   "execution_count": null,
   "id": "de3ea286",
   "metadata": {},
   "outputs": [],
   "source": [
    "# Replace NaN values by the mean\n",
    "\n",
    "Customer_Lifetime_Value_mean=insurance['Customer Lifetime Value'].mean()\n",
    "\n",
    "insurance['Customer Lifetime Value'] = insurance['Customer Lifetime Value'].fillna(Customer_Lifetime_Value_mean)"
   ]
  },
  {
   "cell_type": "code",
   "execution_count": null,
   "id": "d17f7bef",
   "metadata": {},
   "outputs": [],
   "source": [
    "# Check if there is still NaN values\n",
    "insurance.isna().sum()"
   ]
  },
  {
   "cell_type": "markdown",
   "id": "9cb501ec-36ff-4589-b872-6252bb150316",
   "metadata": {},
   "source": [
    "## Exercise 2: Cleaning invalid Values"
   ]
  },
  {
   "cell_type": "markdown",
   "id": "3e9d15bf-efca-4471-8227-41b9850e85bd",
   "metadata": {},
   "source": [
    "The dataset contains columns with inconsistent and incorrect values that could affect the accuracy of our analysis. Therefore, we need to clean these columns to ensure that they contain only valid data. For example, the gender column contains various inconsistent values such as \"F\", \"M\", \"Femal\", \"Male\", \"female\", which need to be standardized.\n",
    "\n",
    "Note that this exercise will focus only on cleaning inconsistent values and will not involve handling null values (NaN or None)."
   ]
  },
  {
   "cell_type": "code",
   "execution_count": null,
   "id": "3f8ee5cb-50ab-48af-8a9f-9a389804033c",
   "metadata": {},
   "outputs": [],
   "source": []
  },
  {
   "cell_type": "markdown",
   "id": "85ff78ce-0174-4890-9db3-8048b7d7d2d0",
   "metadata": {},
   "source": [
    "## Exercise 3: Formatting data types"
   ]
  },
  {
   "cell_type": "markdown",
   "id": "b91c2cf8-79a2-4baf-9f65-ff2fb22270bd",
   "metadata": {},
   "source": [
    "The data types of many columns in the dataset appear to be incorrect. This could impact the accuracy of our analysis. To ensure accurate analysis, we need to correct the data types of these columns. Please update the data types of the columns as appropriate. "
   ]
  },
  {
   "cell_type": "markdown",
   "id": "43e5d853-ff9e-43b2-9d92-aef2f78764f3",
   "metadata": {},
   "source": [
    "It is important to note that this exercise does not involve handling null values (NaN or None)."
   ]
  },
  {
   "cell_type": "code",
   "execution_count": null,
   "id": "eb8f5991-73e9-405f-bf1c-6b7c589379a9",
   "metadata": {},
   "outputs": [],
   "source": []
  },
  {
   "cell_type": "markdown",
   "id": "14c52e28-2d0c-4dd2-8bd5-3476e34fadc1",
   "metadata": {},
   "source": [
    "## Exercise 4: Dealing with Null values"
   ]
  },
  {
   "cell_type": "markdown",
   "id": "73b7e0e7-959a-46cf-bb36-6662c262740f",
   "metadata": {},
   "source": [
    "Identify any columns with null or missing values. Identify how many null values each column has. You can use the isnull() function in pandas to find columns with null values.\n",
    "\n",
    "Decide on a strategy for handling the null values. There are several options, including:\n",
    "\n",
    "- Drop the rows or columns with null values\n",
    "- Fill the null values with a specific value (such as the column mean or median for numerical variables and mode for categorical variables)\n",
    "- Fill the null values with the previous or next value in the column\n",
    "- Fill the null values based on a more complex algorithm or model (we haven't studied this yet)\n",
    "\n",
    "Implement your chosen strategy to handle the null values. You can use the fillna() function in pandas to fill null values or dropna() function to drop null values.\n",
    "\n",
    "Verify that your strategy has successfully handled the null values. You can use the isnull() function again to check if there are still null values in the dataset.\n",
    "\n",
    "Remember to document your process and explain your reasoning for choosing a particular strategy for handling null values. \n"
   ]
  },
  {
   "cell_type": "markdown",
   "id": "c5df7cac-92ab-4ed5-8513-885e1fb77d72",
   "metadata": {},
   "source": [
    "After formatting data types, as a last step, convert all the numeric variables to integers using applymap."
   ]
  },
  {
   "cell_type": "markdown",
   "id": "5c1e54fd-0f34-489a-aa7c-cdf660ed1c21",
   "metadata": {},
   "source": [
    "Save the cleaned dataset to a new CSV file."
   ]
  },
  {
   "cell_type": "code",
   "execution_count": null,
   "id": "f184fc35-7831-4836-a0a5-e7f99e01b40e",
   "metadata": {},
   "outputs": [],
   "source": []
  },
  {
   "cell_type": "markdown",
   "id": "98416351-e999-4156-9834-9b00a311adfa",
   "metadata": {},
   "source": [
    "## Exercise 5: Dealing with duplicates"
   ]
  },
  {
   "cell_type": "markdown",
   "id": "ae35e8e9-4ee4-4e8e-8a5a-c8d270693bb5",
   "metadata": {},
   "source": [
    "Use the .duplicated() method to identify any duplicate rows in the dataframe.\n",
    "\n",
    "Decide on a strategy for handling the duplicates. Options include:\n",
    "- Dropping all duplicate rows\n",
    "- Keeping only the first occurrence of each duplicated row\n",
    "- Keeping only the last occurrence of each duplicated row\n",
    "- Dropping duplicates based on a subset of columns\n",
    "- Dropping duplicates based on a specific column\n",
    "\n",
    "Implement your chosen strategy using the drop_duplicates() function.\n",
    "\n",
    "Verify that your strategy has successfully handled the duplicates by checking for duplicates again using .duplicated().\n",
    "\n",
    "Remember to document your process and explain your reasoning for choosing a particular strategy for handling duplicates.\n",
    "\n",
    "Save the cleaned dataset to a new CSV file."
   ]
  },
  {
   "cell_type": "code",
   "execution_count": null,
   "id": "1929362c-47ed-47cb-baca-358b78d401a0",
   "metadata": {},
   "outputs": [],
   "source": [
    "# Your code here"
   ]
  },
  {
   "cell_type": "markdown",
   "id": "60840701-4783-40e2-b4d8-55303f9100c9",
   "metadata": {},
   "source": [
    "# Challenge 2: creating functions on a separate `py` file"
   ]
  },
  {
   "cell_type": "markdown",
   "id": "9d1adb3a-17cf-4899-8041-da21a4337fb4",
   "metadata": {},
   "source": [
    "Put all the data cleaning and formatting steps into functions, and create a main function that performs all the cleaning and formatting. \n",
    "\n",
    "Write these functions in a separate .py file(s). By putting these steps into functions, we can make the code more modular and easier to maintain. "
   ]
  },
  {
   "cell_type": "markdown",
   "id": "0e170dc2-b62c-417a-8248-e63ed18a70c4",
   "metadata": {},
   "source": [
    "*Hint: autoreload module is a utility module in Python that allows you to automatically reload modules in the current session when changes are made to the source code. This can be useful in situations where you are actively developing code and want to see the effects of changes you make without having to constantly restart the Python interpreter or Jupyter Notebook kernel.*"
   ]
  },
  {
   "cell_type": "code",
   "execution_count": null,
   "id": "81bd6f1c",
   "metadata": {},
   "outputs": [],
   "source": [
    "data2 = pd.read_csv('file1.csv')"
   ]
  },
  {
   "cell_type": "code",
   "execution_count": null,
   "id": "7d21f15c",
   "metadata": {},
   "outputs": [],
   "source": [
    "# Your code here\n",
    "\n",
    "def clean_all(data_frame):\n",
    "    data_frame = data_frame[data_frame['Customer'].isna()==False]\n",
    "    \n",
    "    data_frame['Number of Open Complaints'].replace('1/0/00', '0', inplace=True)\n",
    "    data_frame['Number of Open Complaints'].replace('1/1/00', '1', inplace=True)\n",
    "    data_frame['Number of Open Complaints'].replace('1/2/00', '2', inplace=True)\n",
    "    data_frame['Number of Open Complaints'].replace('1/3/00', '3', inplace=True)\n",
    "    data_frame['Number of Open Complaints'].replace('1/4/00', '4', inplace=True)\n",
    "    data_frame['Number of Open Complaints'].replace('1/5/00', '5', inplace=True)\n",
    "    data_frame['Number of Open Complaints'] =  pd.to_numeric(insurance['Number of Open Complaints'], errors='coerce') #errors replace non numeric it for NaN\n",
    "    data_frame['Number of Open Complaints'] = insurance['Number of Open Complaints'].astype(int)\n",
    "\n",
    "    data_frame = data_frame.rename(columns={'ST':'State', 'GENDER':'Gender'})\n",
    "    \n",
    "    data_frame['State'] = list(map(clean_state, data_frame['State']))\n",
    "    data_frame['Gender'] = list(map(clean_gender, data_frame['Gender']))\n",
    "    \n",
    "    data_frame['Education'].replace('Bachelors', 'Bachelor', inplace=True)\n",
    "\n",
    "    data_frame['Customer Lifetime Value'] = data_frame['Customer Lifetime Value'].str.rstrip('%').astype('float') / 100.0\n",
    "    Customer_Lifetime_Value_mean=data_frame['Customer Lifetime Value'].mean()\n",
    "\n",
    "    data_frame['Customer Lifetime Value'] = data_frame['Customer Lifetime Value'].fillna(Customer_Lifetime_Value_mean)\n",
    "    \n",
    "    return data_frame\n",
    "\n",
    "\n"
   ]
  },
  {
   "cell_type": "code",
   "execution_count": null,
   "id": "df6ebb0c",
   "metadata": {},
   "outputs": [],
   "source": [
    "# Call the main function for the whole data\n",
    "clean_all(data2)"
   ]
  },
  {
   "cell_type": "markdown",
   "id": "80f846bb-3f5e-4ca2-96c0-900728daca5a",
   "metadata": {
    "tags": []
   },
   "source": [
    "# Challenge 3: Analyzing Clean and Formated Data"
   ]
  },
  {
   "cell_type": "markdown",
   "id": "9021630e-cc90-446c-b5bd-264d6c864207",
   "metadata": {},
   "source": [
    "You have been tasked with analyzing the data to identify potential areas for improving customer retention and profitability. Your goal is to identify customers with a high policy claim amount and a low customer lifetime value.\n",
    "\n",
    "In Pandas Lab, we only looked at high policy claim amounts because we couldn't look into low customer lifetime values. If we tried to do work with that column, we wouldn't have been able to do it because customer lifetime value wasn't clean and in its proper format. So after cleaning and formatting the data, lets get some more interesting insights!\n",
    "\n",
    "Instructions:\n",
    "\n",
    "- Review again the statistics for total claim amount and customer lifetime value to gain an understanding of the data.\n",
    "- To identify potential areas for improving customer retention and profitability, we want to focus on customers with a high policy claim amount and a low customer lifetime value. Consider customers with a high policy claim amount to be those in the top 25% of the total claim amount, and clients with a low customer lifetime value to be those in the bottom 25% of the customer lifetime value. Create a pandas DataFrame object that contains information about customers with a policy claim amount greater than the 75th percentile and a customer lifetime value in the bottom 25th percentile.\n",
    "- Use DataFrame methods to calculate summary statistics about the high policy claim amount and low customer lifetime value data. To do so, select both columns of the dataframe simultaneously and pass it to the .describe() method. This will give you descriptive statistics, such as mean, median, standard deviation, minimum and maximum values for both columns at the same time, allowing you to compare and analyze their characteristics."
   ]
  },
  {
   "cell_type": "code",
   "execution_count": 108,
   "id": "211e82b5-461a-4d6f-8a23-4deccb84173c",
   "metadata": {},
   "outputs": [
    {
     "data": {
      "text/html": [
       "<div>\n",
       "<style scoped>\n",
       "    .dataframe tbody tr th:only-of-type {\n",
       "        vertical-align: middle;\n",
       "    }\n",
       "\n",
       "    .dataframe tbody tr th {\n",
       "        vertical-align: top;\n",
       "    }\n",
       "\n",
       "    .dataframe thead th {\n",
       "        text-align: right;\n",
       "    }\n",
       "</style>\n",
       "<table border=\"1\" class=\"dataframe\">\n",
       "  <thead>\n",
       "    <tr style=\"text-align: right;\">\n",
       "      <th></th>\n",
       "      <th>count</th>\n",
       "      <th>mean</th>\n",
       "      <th>std</th>\n",
       "      <th>min</th>\n",
       "      <th>25%</th>\n",
       "      <th>50%</th>\n",
       "      <th>75%</th>\n",
       "      <th>max</th>\n",
       "    </tr>\n",
       "  </thead>\n",
       "  <tbody>\n",
       "    <tr>\n",
       "      <th>Total Claim Amount</th>\n",
       "      <td>1071.0</td>\n",
       "      <td>404.986909</td>\n",
       "      <td>293.027260</td>\n",
       "      <td>0.382107</td>\n",
       "      <td>202.157702</td>\n",
       "      <td>354.729129</td>\n",
       "      <td>532.80000</td>\n",
       "      <td>2893.239678</td>\n",
       "    </tr>\n",
       "    <tr>\n",
       "      <th>Customer Lifetime Value</th>\n",
       "      <td>1071.0</td>\n",
       "      <td>7936.902593</td>\n",
       "      <td>6425.757046</td>\n",
       "      <td>2004.350700</td>\n",
       "      <td>4048.534600</td>\n",
       "      <td>5887.182000</td>\n",
       "      <td>8945.20995</td>\n",
       "      <td>58166.553500</td>\n",
       "    </tr>\n",
       "  </tbody>\n",
       "</table>\n",
       "</div>"
      ],
      "text/plain": [
       "                          count         mean          std          min  \\\n",
       "Total Claim Amount       1071.0   404.986909   293.027260     0.382107   \n",
       "Customer Lifetime Value  1071.0  7936.902593  6425.757046  2004.350700   \n",
       "\n",
       "                                 25%          50%         75%           max  \n",
       "Total Claim Amount        202.157702   354.729129   532.80000   2893.239678  \n",
       "Customer Lifetime Value  4048.534600  5887.182000  8945.20995  58166.553500  "
      ]
     },
     "execution_count": 108,
     "metadata": {},
     "output_type": "execute_result"
    }
   ],
   "source": [
    "# Your code here\n",
    "\n",
    "# 1. Review again the statistics for total claim amount and customer lifetime value to gain an understanding of the data.\n",
    "\n",
    "# Create smaller dataframe \n",
    "insurance2 = insurance[['Total Claim Amount', 'Customer Lifetime Value']]\n",
    "\n",
    "# Analise estatistics\n",
    "insurance2.describe().T"
   ]
  },
  {
   "cell_type": "code",
   "execution_count": 141,
   "id": "d6ea51a3",
   "metadata": {},
   "outputs": [
    {
     "name": "stderr",
     "output_type": "stream",
     "text": [
      "C:\\Users\\PC\\AppData\\Local\\Temp\\ipykernel_10624\\1010235402.py:7: SettingWithCopyWarning: \n",
      "A value is trying to be set on a copy of a slice from a DataFrame.\n",
      "Try using .loc[row_indexer,col_indexer] = value instead\n",
      "\n",
      "See the caveats in the documentation: https://pandas.pydata.org/pandas-docs/stable/user_guide/indexing.html#returning-a-view-versus-a-copy\n",
      "  insurance2['High Policy Claim'] = insurance2['Total Claim Amount'] > Q3_1\n",
      "C:\\Users\\PC\\AppData\\Local\\Temp\\ipykernel_10624\\1010235402.py:12: SettingWithCopyWarning: \n",
      "A value is trying to be set on a copy of a slice from a DataFrame.\n",
      "Try using .loc[row_indexer,col_indexer] = value instead\n",
      "\n",
      "See the caveats in the documentation: https://pandas.pydata.org/pandas-docs/stable/user_guide/indexing.html#returning-a-view-versus-a-copy\n",
      "  insurance2['Low Customer Lifetime Value'] = insurance2['Customer Lifetime Value'] < Q1_2\n"
     ]
    },
    {
     "data": {
      "text/html": [
       "<div>\n",
       "<style scoped>\n",
       "    .dataframe tbody tr th:only-of-type {\n",
       "        vertical-align: middle;\n",
       "    }\n",
       "\n",
       "    .dataframe tbody tr th {\n",
       "        vertical-align: top;\n",
       "    }\n",
       "\n",
       "    .dataframe thead th {\n",
       "        text-align: right;\n",
       "    }\n",
       "</style>\n",
       "<table border=\"1\" class=\"dataframe\">\n",
       "  <thead>\n",
       "    <tr style=\"text-align: right;\">\n",
       "      <th></th>\n",
       "      <th>Total Claim Amount</th>\n",
       "      <th>Customer Lifetime Value</th>\n",
       "      <th>High Policy Claim</th>\n",
       "      <th>Low Customer Lifetime Value</th>\n",
       "    </tr>\n",
       "  </thead>\n",
       "  <tbody>\n",
       "    <tr>\n",
       "      <th>0</th>\n",
       "      <td>2.704934</td>\n",
       "      <td>7936.902593</td>\n",
       "      <td>False</td>\n",
       "      <td>False</td>\n",
       "    </tr>\n",
       "    <tr>\n",
       "      <th>1</th>\n",
       "      <td>1131.464935</td>\n",
       "      <td>6979.535900</td>\n",
       "      <td>True</td>\n",
       "      <td>False</td>\n",
       "    </tr>\n",
       "    <tr>\n",
       "      <th>2</th>\n",
       "      <td>566.472247</td>\n",
       "      <td>12887.431700</td>\n",
       "      <td>True</td>\n",
       "      <td>False</td>\n",
       "    </tr>\n",
       "    <tr>\n",
       "      <th>3</th>\n",
       "      <td>529.881344</td>\n",
       "      <td>7645.861800</td>\n",
       "      <td>False</td>\n",
       "      <td>False</td>\n",
       "    </tr>\n",
       "    <tr>\n",
       "      <th>4</th>\n",
       "      <td>17.269323</td>\n",
       "      <td>5363.076500</td>\n",
       "      <td>False</td>\n",
       "      <td>False</td>\n",
       "    </tr>\n",
       "    <tr>\n",
       "      <th>...</th>\n",
       "      <td>...</td>\n",
       "      <td>...</td>\n",
       "      <td>...</td>\n",
       "      <td>...</td>\n",
       "    </tr>\n",
       "    <tr>\n",
       "      <th>1066</th>\n",
       "      <td>361.455219</td>\n",
       "      <td>3059.550300</td>\n",
       "      <td>False</td>\n",
       "      <td>True</td>\n",
       "    </tr>\n",
       "    <tr>\n",
       "      <th>1067</th>\n",
       "      <td>207.320041</td>\n",
       "      <td>20314.997600</td>\n",
       "      <td>False</td>\n",
       "      <td>False</td>\n",
       "    </tr>\n",
       "    <tr>\n",
       "      <th>1068</th>\n",
       "      <td>633.600000</td>\n",
       "      <td>3239.124700</td>\n",
       "      <td>True</td>\n",
       "      <td>True</td>\n",
       "    </tr>\n",
       "    <tr>\n",
       "      <th>1069</th>\n",
       "      <td>547.200000</td>\n",
       "      <td>4626.801100</td>\n",
       "      <td>True</td>\n",
       "      <td>False</td>\n",
       "    </tr>\n",
       "    <tr>\n",
       "      <th>1070</th>\n",
       "      <td>537.600000</td>\n",
       "      <td>8997.040200</td>\n",
       "      <td>True</td>\n",
       "      <td>False</td>\n",
       "    </tr>\n",
       "  </tbody>\n",
       "</table>\n",
       "<p>1071 rows × 4 columns</p>\n",
       "</div>"
      ],
      "text/plain": [
       "      Total Claim Amount  Customer Lifetime Value  High Policy Claim  \\\n",
       "0               2.704934              7936.902593              False   \n",
       "1            1131.464935              6979.535900               True   \n",
       "2             566.472247             12887.431700               True   \n",
       "3             529.881344              7645.861800              False   \n",
       "4              17.269323              5363.076500              False   \n",
       "...                  ...                      ...                ...   \n",
       "1066          361.455219              3059.550300              False   \n",
       "1067          207.320041             20314.997600              False   \n",
       "1068          633.600000              3239.124700               True   \n",
       "1069          547.200000              4626.801100               True   \n",
       "1070          537.600000              8997.040200               True   \n",
       "\n",
       "      Low Customer Lifetime Value  \n",
       "0                           False  \n",
       "1                           False  \n",
       "2                           False  \n",
       "3                           False  \n",
       "4                           False  \n",
       "...                           ...  \n",
       "1066                         True  \n",
       "1067                        False  \n",
       "1068                         True  \n",
       "1069                        False  \n",
       "1070                        False  \n",
       "\n",
       "[1071 rows x 4 columns]"
      ]
     },
     "execution_count": 141,
     "metadata": {},
     "output_type": "execute_result"
    }
   ],
   "source": [
    "# 2. Create a pandas DataFrame object that contains information about customers with a policy claim amount greater than the 75th percentile and a customer lifetime value in the bottom 25th percentile.\n",
    "\n",
    "# Define the variables with the values from the dewscribe table and then add a new column to the insurance data frame with those values greater/less than the variable\n",
    "\n",
    "Q3_1 = 532.80000\n",
    "\n",
    "insurance2['High Policy Claim'] = insurance2['Total Claim Amount'] > Q3_1\n",
    "\n",
    "\n",
    "Q1_2 = 4048.534600\n",
    "\n",
    "insurance2['Low Customer Lifetime Value'] = insurance2['Customer Lifetime Value'] < Q1_2\n",
    "\n",
    "insurance2\n"
   ]
  },
  {
   "cell_type": "code",
   "execution_count": 142,
   "id": "6187f632",
   "metadata": {},
   "outputs": [
    {
     "data": {
      "text/html": [
       "<div>\n",
       "<style scoped>\n",
       "    .dataframe tbody tr th:only-of-type {\n",
       "        vertical-align: middle;\n",
       "    }\n",
       "\n",
       "    .dataframe tbody tr th {\n",
       "        vertical-align: top;\n",
       "    }\n",
       "\n",
       "    .dataframe thead th {\n",
       "        text-align: right;\n",
       "    }\n",
       "</style>\n",
       "<table border=\"1\" class=\"dataframe\">\n",
       "  <thead>\n",
       "    <tr style=\"text-align: right;\">\n",
       "      <th></th>\n",
       "      <th>count</th>\n",
       "      <th>mean</th>\n",
       "      <th>std</th>\n",
       "      <th>min</th>\n",
       "      <th>25%</th>\n",
       "      <th>50%</th>\n",
       "      <th>75%</th>\n",
       "      <th>max</th>\n",
       "    </tr>\n",
       "  </thead>\n",
       "  <tbody>\n",
       "    <tr>\n",
       "      <th>Total Claim Amount</th>\n",
       "      <td>1071.0</td>\n",
       "      <td>404.986909</td>\n",
       "      <td>293.027260</td>\n",
       "      <td>0.382107</td>\n",
       "      <td>202.157702</td>\n",
       "      <td>354.729129</td>\n",
       "      <td>532.80000</td>\n",
       "      <td>2893.239678</td>\n",
       "    </tr>\n",
       "    <tr>\n",
       "      <th>Customer Lifetime Value</th>\n",
       "      <td>1071.0</td>\n",
       "      <td>7936.902593</td>\n",
       "      <td>6425.757046</td>\n",
       "      <td>2004.350700</td>\n",
       "      <td>4048.534600</td>\n",
       "      <td>5887.182000</td>\n",
       "      <td>8945.20995</td>\n",
       "      <td>58166.553500</td>\n",
       "    </tr>\n",
       "  </tbody>\n",
       "</table>\n",
       "</div>"
      ],
      "text/plain": [
       "                          count         mean          std          min  \\\n",
       "Total Claim Amount       1071.0   404.986909   293.027260     0.382107   \n",
       "Customer Lifetime Value  1071.0  7936.902593  6425.757046  2004.350700   \n",
       "\n",
       "                                 25%          50%         75%           max  \n",
       "Total Claim Amount        202.157702   354.729129   532.80000   2893.239678  \n",
       "Customer Lifetime Value  4048.534600  5887.182000  8945.20995  58166.553500  "
      ]
     },
     "execution_count": 142,
     "metadata": {},
     "output_type": "execute_result"
    }
   ],
   "source": [
    "# 3. Select both columns of the dataframe simultaneously and pass it to the .describe() method. \n",
    "\n",
    "insurance[['Total Claim Amount', 'Customer Lifetime Value']].describe().T"
   ]
  }
 ],
 "metadata": {
  "kernelspec": {
   "display_name": "Python 3 (ipykernel)",
   "language": "python",
   "name": "python3"
  },
  "language_info": {
   "codemirror_mode": {
    "name": "ipython",
    "version": 3
   },
   "file_extension": ".py",
   "mimetype": "text/x-python",
   "name": "python",
   "nbconvert_exporter": "python",
   "pygments_lexer": "ipython3",
   "version": "3.10.9"
  }
 },
 "nbformat": 4,
 "nbformat_minor": 5
}
